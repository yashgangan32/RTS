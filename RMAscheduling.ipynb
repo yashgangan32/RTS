{
 "cells": [
  {
   "cell_type": "markdown",
   "id": "74554a8a",
   "metadata": {},
   "source": [
    "# RMA"
   ]
  },
  {
   "cell_type": "code",
   "execution_count": 1,
   "id": "bb051248-768b-4f9c-a485-15cd16861740",
   "metadata": {},
   "outputs": [],
   "source": [
    "import pandas as pd\n",
    "import math\n",
    "import warnings\n",
    "warnings.filterwarnings('ignore')"
   ]
  },
  {
   "cell_type": "code",
   "execution_count": 2,
   "id": "46b20c2a-861d-43e0-898c-3446ae0e9544",
   "metadata": {},
   "outputs": [],
   "source": [
    "def read_task_set_from_txt(file):\n",
    "    task_set = []\n",
    "    with open(file, 'r') as txtfile:\n",
    "        for line in txtfile:\n",
    "            task = tuple(map(int, line.strip()[1:-1].split(', ')))\n",
    "            task_set.append(task)\n",
    "    return task_set"
   ]
  },
  {
   "cell_type": "code",
   "execution_count": 3,
   "id": "f147df54-69c6-4156-88de-ddb50792a566",
   "metadata": {},
   "outputs": [
    {
     "name": "stdout",
     "output_type": "stream",
     "text": [
      "    id  execution  arrival  period  rem  nextdead\n",
      "0    1         10        0     255   10       255\n",
      "1    2         25        0     364   25       364\n",
      "2    3         24        0     482   24       482\n",
      "3    4         29        0     324   29       324\n",
      "4    5         18        0     352   18       352\n",
      "5    6         15        0     400   15       400\n",
      "6    7         15        0     237   15       237\n",
      "7    8         24        0     206   24       206\n",
      "8    9         13        0     355   13       355\n",
      "9   10         12        0     299   12       299\n",
      "10  11         26        0     369   26       369\n",
      "11  12         10        0     401   10       401\n",
      "12  13         14        0     399   14       399\n",
      "13  14         21        0     367   21       367\n",
      "14  15         20        0     151   20       151\n"
     ]
    }
   ],
   "source": [
    "data=read_task_set_from_txt('task_set.txt')\n",
    "df = pd.DataFrame(data, columns=['id', 'execution', 'arrival', 'period', 'dead'])\n",
    "df['rem']=df['execution']\n",
    "df['nextdead']=df['period']\n",
    "df=df.drop(columns=['dead'])\n",
    "# Print the DataFrame\n",
    "print(df)"
   ]
  },
  {
   "cell_type": "code",
   "execution_count": 4,
   "id": "3744ab3a",
   "metadata": {},
   "outputs": [],
   "source": [
    "import math\n",
    "def lcm(a, b):\n",
    "    return abs(a*b) // math.gcd(a, b)\n",
    "\n",
    "def hyperperiod(periods):\n",
    "    h = periods[0]\n",
    "    for p in periods[1:]:\n",
    "        h = lcm(h, p)\n",
    "    return h\n"
   ]
  },
  {
   "cell_type": "code",
   "execution_count": 5,
   "id": "b43decaa",
   "metadata": {},
   "outputs": [],
   "source": [
    "import pandas as pd\n",
    "\n",
    "def check_rma_schedulability(df):\n",
    "    n = len(df)\n",
    "    print(n)\n",
    "    total_utilization = 0\n",
    "\n",
    "    for index, row in df.iterrows():\n",
    "        utilization = row['execution'] / row['period']\n",
    "        total_utilization += utilization\n",
    "\n",
    "    max_utilization = n * (2 ** (1/n) - 1)\n",
    "\n",
    "    if total_utilization <= max_utilization:\n",
    "        print(\"Schedulable by RMA\")\n",
    "        print(max_utilization)\n",
    "        print(total_utilization)\n",
    "        \n",
    "        return True\n",
    "    else:\n",
    "        print(\"Not schedulable by RMA\")\n",
    "        print(total_utilization)\n",
    "        print(max_utilization)\n",
    "        return False"
   ]
  },
  {
   "cell_type": "code",
   "execution_count": 6,
   "id": "1672e562-2867-4bda-b483-166f7a1c6127",
   "metadata": {},
   "outputs": [
    {
     "name": "stdout",
     "output_type": "stream",
     "text": [
      "15\n",
      "Not schedulable by RMA\n",
      "0.9125386830738769\n",
      "0.7094118423094009\n"
     ]
    }
   ],
   "source": [
    "sc=[]\n",
    "if check_rma_schedulability(df):\n",
    "    \n",
    "    for i in range(500):\n",
    "            task=df[df[\"arrival\"] <= i][df[\"rem\"] > 0]\n",
    "            if len(task)>0:\n",
    "                nexttask=task.sort_values('period').index[0]\n",
    "                df.loc[nexttask, \"rem\"] -= 1.0\n",
    "                if i > 0 and sc[-1]['id'] == df.loc[nexttask, \"id\"] and sc[-1]['end time'] == i:\n",
    "                    sc[-1]['end time'] += 1\n",
    "                    sc[-1]['total time'] += 1\n",
    "                else:\n",
    "                    dict={'id': df.loc[nexttask, \"id\"], 'start time': i, 'end time': i + 1, 'total time': 1}\n",
    "                    sc.append(dict)\n",
    "            arrived=df[(i+1)%df['period']==0].index\n",
    "            df.loc[arrived, 'rem'] = df.loc[arrived, 'execution']\n",
    "            df.loc[arrived, 'nextdead'] = df.loc[arrived, 'nextdead']+df.loc[arrived,'period']\n",
    "        #print(\"i=\",i)\n",
    "        #print(df)"
   ]
  },
  {
   "cell_type": "code",
   "execution_count": 7,
   "id": "a63f310d-58ab-4236-a011-bc691cb1a32f",
   "metadata": {},
   "outputs": [
    {
     "data": {
      "text/html": [
       "<div>\n",
       "<style scoped>\n",
       "    .dataframe tbody tr th:only-of-type {\n",
       "        vertical-align: middle;\n",
       "    }\n",
       "\n",
       "    .dataframe tbody tr th {\n",
       "        vertical-align: top;\n",
       "    }\n",
       "\n",
       "    .dataframe thead th {\n",
       "        text-align: right;\n",
       "    }\n",
       "</style>\n",
       "<table border=\"1\" class=\"dataframe\">\n",
       "  <thead>\n",
       "    <tr style=\"text-align: right;\">\n",
       "      <th></th>\n",
       "    </tr>\n",
       "  </thead>\n",
       "  <tbody>\n",
       "  </tbody>\n",
       "</table>\n",
       "</div>"
      ],
      "text/plain": [
       "Empty DataFrame\n",
       "Columns: []\n",
       "Index: []"
      ]
     },
     "execution_count": 7,
     "metadata": {},
     "output_type": "execute_result"
    }
   ],
   "source": [
    "sc1=pd.DataFrame(sc)\n",
    "sc1"
   ]
  },
  {
   "cell_type": "code",
   "execution_count": 8,
   "id": "0af6c9f7-f9f2-473f-9799-379c6fc04e0b",
   "metadata": {},
   "outputs": [
    {
     "name": "stdout",
     "output_type": "stream",
     "text": [
      "15\n",
      "Not schedulable by RMA\n",
      "0.9125386830738769\n",
      "0.7094118423094009\n"
     ]
    }
   ],
   "source": [
    "if check_rma_schedulability(df):\n",
    "    import matplotlib.pyplot as plt\n",
    "    fig, gnt = plt.subplots()\n",
    "    gnt.set_ylim(0, 50)\n",
    "    gnt.set_xlim(0, 500)\n",
    "    gnt.set_xlabel('time')\n",
    "    gnt.set_ylabel('Tasks')\n",
    "\n",
    "    tick=10\n",
    "    tc=[]\n",
    "    lab=[]\n",
    "    for i in df['id']:\n",
    "        tc.append(tick)\n",
    "        lab.append(i)\n",
    "        tick+=10\n",
    "\n",
    "    gnt.set_yticks(tc)\n",
    "    gnt.set_yticklabels(lab)\n",
    "    gnt.grid(True)\n",
    "\n",
    "    for item in sc:\n",
    "        gnt.broken_barh([(item['start time'], item['end time']-item['start time'])], (10*item['id'], 5), facecolors =('tab:green'))\n",
    "\n",
    "\n"
   ]
  },
  {
   "cell_type": "code",
   "execution_count": null,
   "id": "6d900f5c",
   "metadata": {},
   "outputs": [],
   "source": []
  }
 ],
 "metadata": {
  "kernelspec": {
   "display_name": "Python 3 (ipykernel)",
   "language": "python",
   "name": "python3"
  },
  "language_info": {
   "codemirror_mode": {
    "name": "ipython",
    "version": 3
   },
   "file_extension": ".py",
   "mimetype": "text/x-python",
   "name": "python",
   "nbconvert_exporter": "python",
   "pygments_lexer": "ipython3",
   "version": "3.11.4"
  }
 },
 "nbformat": 4,
 "nbformat_minor": 5
}
