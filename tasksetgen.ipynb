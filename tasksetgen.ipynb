{
 "cells": [
  {
   "cell_type": "code",
   "execution_count": 1,
   "id": "87cff209-1153-414e-b007-9563607160f3",
   "metadata": {},
   "outputs": [],
   "source": [
    "import random\n",
    "import pandas as pd\n",
    "\n"
   ]
  },
  {
   "cell_type": "code",
   "execution_count": 2,
   "id": "3eefe665-cf3b-4b9f-8c96-881434b5f915",
   "metadata": {},
   "outputs": [],
   "source": [
    "def generate_task_set(num_tasks):\n",
    "    task_set = []\n",
    "    for task_id in range(1, num_tasks + 1):\n",
    "        period = random.randint(100, 500) \n",
    "        execution_time = random.randint(10,30)\n",
    "        release_time = 0 \n",
    "        deadline = random.randint(execution_time, period)  \n",
    "        task_set.append((task_id, execution_time, release_time, period, deadline))\n",
    "    return task_set\n",
    "\n",
    "def save_task_set_to_txt(task_set, filename):\n",
    "    with open(filename, 'w') as txtfile:\n",
    "        for task in task_set:\n",
    "            txtfile.write(f\"({task[0]}, {task[1]}, {task[2]}, {task[3]}, {task[4]})\\n\")\n",
    "    "
   ]
  },
  {
   "cell_type": "code",
   "execution_count": 3,
   "id": "fa91a061-b176-439f-8ade-0d3387d20098",
   "metadata": {},
   "outputs": [],
   "source": [
    "def schedulability(df):\n",
    "    utilization = sum(df['execution'] / df['period'])\n",
    "    if utilization<=1:\n",
    "        print(utilization)\n",
    "        return 1\n",
    "    else: \n",
    "        return 0"
   ]
  },
  {
   "cell_type": "code",
   "execution_count": 4,
   "id": "83cdd824-6b1f-4088-a1b6-abdf6542eb27",
   "metadata": {},
   "outputs": [
    {
     "name": "stdout",
     "output_type": "stream",
     "text": [
      "0.9125386830738769\n",
      "Task set saved to task.txt\n"
     ]
    }
   ],
   "source": [
    "c=1\n",
    "while c:\n",
    "    num_tasks = 15\n",
    "    data = generate_task_set(num_tasks)\n",
    "    df = pd.DataFrame(data, columns=['id', 'execution', 'arrival', 'period', 'dead'])\n",
    "    if schedulability(df):\n",
    "        save_task_set_to_txt(data, 'task_set.txt')\n",
    "        print(\"Task set saved to task.txt\")\n",
    "        c=0\n",
    "    \n",
    "        "
   ]
  },
  {
   "cell_type": "code",
   "execution_count": null,
   "id": "9cd0c387-e98b-4cfb-a218-2a3e8d618520",
   "metadata": {},
   "outputs": [],
   "source": []
  }
 ],
 "metadata": {
  "kernelspec": {
   "display_name": "Python 3 (ipykernel)",
   "language": "python",
   "name": "python3"
  },
  "language_info": {
   "codemirror_mode": {
    "name": "ipython",
    "version": 3
   },
   "file_extension": ".py",
   "mimetype": "text/x-python",
   "name": "python",
   "nbconvert_exporter": "python",
   "pygments_lexer": "ipython3",
   "version": "3.11.4"
  }
 },
 "nbformat": 4,
 "nbformat_minor": 5
}
