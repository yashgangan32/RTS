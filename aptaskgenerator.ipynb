{
 "cells": [
  {
   "cell_type": "code",
   "execution_count": 1,
   "id": "2ba7c286-760f-4736-ba7b-e82b5dab53e4",
   "metadata": {},
   "outputs": [],
   "source": [
    "import random\n",
    "import pandas as pd\n",
    "\n"
   ]
  },
  {
   "cell_type": "code",
   "execution_count": 2,
   "id": "61300c77-872b-4313-8ef1-3ddc261ec024",
   "metadata": {},
   "outputs": [],
   "source": [
    "def generate_task_set(num_tasks):\n",
    "    task_set = []\n",
    "    for task_id in range(1, num_tasks + 1): \n",
    "        execution_time = random.randint(10, 20)\n",
    "        release_time = random.randint(5,60) \n",
    "        task_set.append((task_id, execution_time, release_time))\n",
    "    return task_set\n",
    "\n",
    "def save_task_set_to_txt(task_set, filename):\n",
    "    with open(filename, 'w') as txtfile:\n",
    "        for task in task_set:\n",
    "            txtfile.write(f\"({task[0]}, {task[1]}, {task[2]})\\n\")\n",
    "    "
   ]
  },
  {
   "cell_type": "code",
   "execution_count": 3,
   "id": "662be7fa-18ba-43a9-90cc-d76aaeb5502b",
   "metadata": {},
   "outputs": [],
   "source": [
    "def schedulability(df):\n",
    "    utilization = sum(df['execution'] / df['period'])\n",
    "    if utilization<=1:\n",
    "        return 1\n",
    "    else: \n",
    "        return 0"
   ]
  },
  {
   "cell_type": "code",
   "execution_count": 4,
   "id": "deccfd85-a6e2-4617-9e67-e8a519fb3987",
   "metadata": {},
   "outputs": [
    {
     "name": "stdout",
     "output_type": "stream",
     "text": [
      "Task set saved to APtask_set.txt\n"
     ]
    }
   ],
   "source": [
    "\n",
    "num_tasks = 10\n",
    "data = generate_task_set(num_tasks)\n",
    "df = pd.DataFrame(data, columns=['id', 'execution', 'arrival'])\n",
    "save_task_set_to_txt(data, 'APtask_set.txt')\n",
    "print(\"Task set saved to APtask_set.txt\")\n",
    "\n",
    "    \n",
    "        "
   ]
  },
  {
   "cell_type": "code",
   "execution_count": null,
   "id": "1f0e385e-0a9d-40c2-8f64-1c8ddf57e664",
   "metadata": {},
   "outputs": [],
   "source": []
  }
 ],
 "metadata": {
  "kernelspec": {
   "display_name": "Python 3 (ipykernel)",
   "language": "python",
   "name": "python3"
  },
  "language_info": {
   "codemirror_mode": {
    "name": "ipython",
    "version": 3
   },
   "file_extension": ".py",
   "mimetype": "text/x-python",
   "name": "python",
   "nbconvert_exporter": "python",
   "pygments_lexer": "ipython3",
   "version": "3.11.4"
  }
 },
 "nbformat": 4,
 "nbformat_minor": 5
}
